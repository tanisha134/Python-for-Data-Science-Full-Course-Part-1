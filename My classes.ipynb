{
 "cells": [
  {
   "cell_type": "markdown",
   "id": "06729851-f085-417f-bd33-1274102dbe15",
   "metadata": {},
   "source": [
    "# This is My 1st class of Jupyter Notebook"
   ]
  },
  {
   "cell_type": "code",
   "execution_count": 2,
   "id": "2276fd53-3c4e-49e6-8bf4-b849aa9363c4",
   "metadata": {},
   "outputs": [
    {
     "name": "stdout",
     "output_type": "stream",
     "text": [
      "Hello world\n"
     ]
    }
   ],
   "source": [
    "print(\"Hello world\")"
   ]
  },
  {
   "cell_type": "code",
   "execution_count": 7,
   "id": "f521179c-9127-4b58-a73b-878f3c5d66ca",
   "metadata": {},
   "outputs": [
    {
     "name": "stdout",
     "output_type": "stream",
     "text": [
      "Hello! I'm Tanisha\n",
      "23\n",
      "92\n"
     ]
    }
   ],
   "source": [
    "#This is about the introducton of learner\n",
    "print(\"Hello! I'm Tanisha\")\n",
    "print('23')#This is Number\n",
    "print(2+90)"
   ]
  },
  {
   "cell_type": "markdown",
   "id": "be766fbf-a2e7-4a42-83e7-74ae9506eb4d",
   "metadata": {},
   "source": [
    "# This is My 2nd class of Jupyter Notebook"
   ]
  },
  {
   "cell_type": "markdown",
   "id": "8f283135-f508-48e2-9592-53e3b16db1f4",
   "metadata": {},
   "source": [
    "## Creating a variable"
   ]
  },
  {
   "cell_type": "code",
   "execution_count": 10,
   "id": "f33f6751-5716-4a46-9282-ec27a8216779",
   "metadata": {},
   "outputs": [
    {
     "name": "stdout",
     "output_type": "stream",
     "text": [
      "5\n"
     ]
    }
   ],
   "source": [
    "x = 5 \n",
    "print(x)"
   ]
  },
  {
   "cell_type": "code",
   "execution_count": 12,
   "id": "a1a02924-175a-4ba8-9197-7c30f489d709",
   "metadata": {},
   "outputs": [
    {
     "name": "stdout",
     "output_type": "stream",
     "text": [
      "10 2.5 Tanisha\n"
     ]
    }
   ],
   "source": [
    "a = 10\n",
    "b = 2.5\n",
    "c = \"Tanisha\"\n",
    "print(a,b,c)"
   ]
  },
  {
   "cell_type": "code",
   "execution_count": 14,
   "id": "404b7850-7671-4d3f-929b-9a5697600721",
   "metadata": {},
   "outputs": [
    {
     "name": "stdout",
     "output_type": "stream",
     "text": [
      "We are learning jupyter notebook\n"
     ]
    }
   ],
   "source": [
    "y = \"We are learning jupyter notebook\"\n",
    "print(y)"
   ]
  },
  {
   "cell_type": "code",
   "execution_count": 16,
   "id": "7fd3374a-f8e0-4f7e-8553-efe8f87f2119",
   "metadata": {},
   "outputs": [
    {
     "name": "stdout",
     "output_type": "stream",
     "text": [
      "Variable               Type        Data/Info\n",
      "--------------------------------------------\n",
      "a                      int         10\n",
      "b                      float       2.5\n",
      "c                      str         Tanisha\n",
      "dataframe_columns      function    <function dataframe_colum<...>ns at 0x000001881FDB5300>\n",
      "dataframe_hash         function    <function dataframe_hash at 0x000001881FDB6020>\n",
      "dtypes_str             function    <function dtypes_str at 0x000001881FDB53A0>\n",
      "get_dataframes         function    <function get_dataframes at 0x000001881FDB5760>\n",
      "getpass                module      <module 'getpass' from 'C<...>conda3\\\\Lib\\\\getpass.py'>\n",
      "hashlib                module      <module 'hashlib' from 'C<...>conda3\\\\Lib\\\\hashlib.py'>\n",
      "import_pandas_safely   function    <function import_pandas_s<...>ly at 0x000001881FDB5F80>\n",
      "is_data_frame          function    <function is_data_frame at 0x00000188223ECCC0>\n",
      "json                   module      <module 'json' from 'C:\\\\<...>\\Lib\\\\json\\\\__init__.py'>\n",
      "x                      int         5\n",
      "y                      str         We are learning jupyter notebook\n"
     ]
    }
   ],
   "source": [
    "%whos"
   ]
  },
  {
   "cell_type": "code",
   "execution_count": null,
   "id": "475bb4a7-f3c8-4648-8a31-9fffb9c60f20",
   "metadata": {},
   "outputs": [],
   "source": [
    "# Rules for python variables:\n",
    "A variable name must start with a letter or the underscore character\n",
    "A variable name cannot start with a number \n",
    "A variable name can only contain alpha-numeric characters and underscores (A-z, 0-9, and _ )\n",
    "Variable names are case-sensitive (age, Age and AGE are three different variables)\n",
    "A variable name cannot be any of the python kyewords."
   ]
  },
  {
   "cell_type": "markdown",
   "id": "d0472d32-8c6a-4d5d-b7c5-9fab729c0190",
   "metadata": {},
   "source": [
    "# A variable name must start with a letter or the underscore character\n"
   ]
  },
  {
   "cell_type": "code",
   "execution_count": 21,
   "id": "61722a6f-2870-457c-aa42-428f16c712bf",
   "metadata": {},
   "outputs": [
    {
     "name": "stdout",
     "output_type": "stream",
     "text": [
      "23\n"
     ]
    }
   ],
   "source": [
    "apple = 23\n",
    "print(apple)"
   ]
  },
  {
   "cell_type": "code",
   "execution_count": 23,
   "id": "05f3057d-b521-4f1f-a62e-2a681899bf1b",
   "metadata": {},
   "outputs": [
    {
     "name": "stdout",
     "output_type": "stream",
     "text": [
      "2.3\n"
     ]
    }
   ],
   "source": [
    "apple_box = 2.3\n",
    "print(apple_box)"
   ]
  },
  {
   "cell_type": "code",
   "execution_count": 25,
   "id": "c613d5ea-2e53-4c4f-80bf-ace0164b6f7f",
   "metadata": {},
   "outputs": [
    {
     "name": "stdout",
     "output_type": "stream",
     "text": [
      "89\n"
     ]
    }
   ],
   "source": [
    "_ = 89\n",
    "print(_)"
   ]
  },
  {
   "cell_type": "code",
   "execution_count": 27,
   "id": "4c5913f8-2f3b-44e3-ab74-170f6e1cfdc4",
   "metadata": {},
   "outputs": [
    {
     "name": "stdout",
     "output_type": "stream",
     "text": [
      "4.8\n"
     ]
    }
   ],
   "source": [
    "_r = 4.8\n",
    "print(_r)"
   ]
  },
  {
   "cell_type": "code",
   "execution_count": 29,
   "id": "788b708b-9885-493e-8ceb-197def6e7d4c",
   "metadata": {},
   "outputs": [
    {
     "name": "stdout",
     "output_type": "stream",
     "text": [
      "3\n"
     ]
    }
   ],
   "source": [
    "mnp_ = 3\n",
    "print(mnp_)"
   ]
  },
  {
   "cell_type": "markdown",
   "id": "3fe277ee-bb10-42d9-85b9-1a0cb14fdb6d",
   "metadata": {},
   "source": [
    "# A variable name cannot start with a number \n"
   ]
  },
  {
   "cell_type": "code",
   "execution_count": 36,
   "id": "69d506d0-e5d3-4bf5-ba20-917e53ff68a8",
   "metadata": {},
   "outputs": [
    {
     "ename": "SyntaxError",
     "evalue": "cannot assign to literal here. Maybe you meant '==' instead of '='? (2060739776.py, line 1)",
     "output_type": "error",
     "traceback": [
      "\u001b[1;36m  Cell \u001b[1;32mIn[36], line 1\u001b[1;36m\u001b[0m\n\u001b[1;33m    1 = 23\u001b[0m\n\u001b[1;37m    ^\u001b[0m\n\u001b[1;31mSyntaxError\u001b[0m\u001b[1;31m:\u001b[0m cannot assign to literal here. Maybe you meant '==' instead of '='?\n"
     ]
    }
   ],
   "source": [
    "1 = 23\n",
    "print(1)"
   ]
  },
  {
   "cell_type": "code",
   "execution_count": 38,
   "id": "d0ca7c49-56e1-4ec3-810b-5b875596f2b8",
   "metadata": {},
   "outputs": [
    {
     "name": "stdout",
     "output_type": "stream",
     "text": [
      "1\n"
     ]
    }
   ],
   "source": [
    "1 == 23\n",
    "print(1)"
   ]
  },
  {
   "cell_type": "code",
   "execution_count": 40,
   "id": "1935c96b-2bf2-4531-8143-ffa6fe5a1e50",
   "metadata": {},
   "outputs": [
    {
     "ename": "SyntaxError",
     "evalue": "invalid decimal literal (1076143812.py, line 1)",
     "output_type": "error",
     "traceback": [
      "\u001b[1;36m  Cell \u001b[1;32mIn[40], line 1\u001b[1;36m\u001b[0m\n\u001b[1;33m    1_apple = 2345\u001b[0m\n\u001b[1;37m     ^\u001b[0m\n\u001b[1;31mSyntaxError\u001b[0m\u001b[1;31m:\u001b[0m invalid decimal literal\n"
     ]
    }
   ],
   "source": [
    "1_apple = 2345\n",
    "print(1_apple)"
   ]
  },
  {
   "cell_type": "code",
   "execution_count": 42,
   "id": "6fd1254c-af9e-478b-8219-8ee2f1d2fed1",
   "metadata": {},
   "outputs": [
    {
     "name": "stdout",
     "output_type": "stream",
     "text": [
      "2345\n"
     ]
    }
   ],
   "source": [
    "apple_1 = 2345\n",
    "print(apple_1)"
   ]
  },
  {
   "cell_type": "markdown",
   "id": "b5254106-737d-432d-b704-5e77cbbd5978",
   "metadata": {},
   "source": [
    "# A variable name can only contain alpha-numeric characters and underscores (A-z, 0-9, and _ )\n"
   ]
  },
  {
   "cell_type": "code",
   "execution_count": 45,
   "id": "62f43d4e-430d-4191-9c39-14109cc0f2e4",
   "metadata": {},
   "outputs": [
    {
     "name": "stdout",
     "output_type": "stream",
     "text": [
      "567\n"
     ]
    }
   ],
   "source": [
    "abc123nmp = 567\n",
    "print(abc123nmp)"
   ]
  },
  {
   "cell_type": "code",
   "execution_count": 47,
   "id": "b0267ecc-a6b0-4b36-ad14-dc3b23058058",
   "metadata": {},
   "outputs": [
    {
     "name": "stdout",
     "output_type": "stream",
     "text": [
      "2333\n"
     ]
    }
   ],
   "source": [
    "abc123456789123567897765435679 = 2333\n",
    "print(abc123456789123567897765435679)"
   ]
  },
  {
   "cell_type": "code",
   "execution_count": 49,
   "id": "80b2639a-0eea-41cf-a6e4-9961690de9a3",
   "metadata": {},
   "outputs": [
    {
     "ename": "SyntaxError",
     "evalue": "invalid syntax (2853887199.py, line 1)",
     "output_type": "error",
     "traceback": [
      "\u001b[1;36m  Cell \u001b[1;32mIn[49], line 1\u001b[1;36m\u001b[0m\n\u001b[1;33m    @$& = 78\u001b[0m\n\u001b[1;37m     ^\u001b[0m\n\u001b[1;31mSyntaxError\u001b[0m\u001b[1;31m:\u001b[0m invalid syntax\n"
     ]
    }
   ],
   "source": [
    "@$& = 78\n",
    "print(@$&)"
   ]
  },
  {
   "cell_type": "markdown",
   "id": "2a517eb7-c182-460b-a0c0-1e6f3302a8f1",
   "metadata": {},
   "source": [
    "# Variable names are case-sensitive (age, Age and AGE are three different variables)\n"
   ]
  },
  {
   "cell_type": "code",
   "execution_count": 57,
   "id": "883113bb-6380-4178-aeb1-8c7de7b83a59",
   "metadata": {},
   "outputs": [
    {
     "name": "stdout",
     "output_type": "stream",
     "text": [
      "34\n",
      "56\n",
      "45\n",
      "67\n"
     ]
    }
   ],
   "source": [
    "age = 34\n",
    "Age = 56\n",
    "AGE = 45\n",
    "aGE = 67\n",
    "print(age)\n",
    "print(Age)\n",
    "print(AGE)\n",
    "print(aGE)"
   ]
  },
  {
   "cell_type": "markdown",
   "id": "005cacf5-459f-4146-8a0c-ea71c98ab2c3",
   "metadata": {},
   "source": [
    "# Data types in python"
   ]
  },
  {
   "cell_type": "code",
   "execution_count": 60,
   "id": "028f1e15-6c1c-4e8f-bdc8-6eda0eb696be",
   "metadata": {},
   "outputs": [
    {
     "name": "stdout",
     "output_type": "stream",
     "text": [
      "34\n",
      "<class 'int'>\n"
     ]
    },
    {
     "data": {
      "text/plain": [
       "float"
      ]
     },
     "execution_count": 60,
     "metadata": {},
     "output_type": "execute_result"
    }
   ],
   "source": [
    "a = 34\n",
    "b =3.4\n",
    "c = \"my name is Tanisha\"\n",
    "print(a)\n",
    "print(type(a))\n",
    "type(b)"
   ]
  },
  {
   "cell_type": "code",
   "execution_count": 64,
   "id": "be63807a-e2db-4b94-8ae3-2f437cf75ec8",
   "metadata": {},
   "outputs": [
    {
     "name": "stdout",
     "output_type": "stream",
     "text": [
      "(4+6j)\n",
      "<class 'complex'>\n"
     ]
    }
   ],
   "source": [
    "v = 4+6j\n",
    "print(v)\n",
    "print(type(v))"
   ]
  },
  {
   "cell_type": "code",
   "execution_count": 68,
   "id": "5a182993-f3ce-4d2d-8e17-059e60ccf233",
   "metadata": {},
   "outputs": [
    {
     "name": "stdout",
     "output_type": "stream",
     "text": [
      "[23, 45, 67, 89]\n",
      "<class 'list'>\n"
     ]
    }
   ],
   "source": [
    "num = [23,45,67,89]\n",
    "print(num)\n",
    "print(type(num))"
   ]
  },
  {
   "cell_type": "code",
   "execution_count": 70,
   "id": "f33ce7fd-fa10-44a4-9a36-7079c88cf251",
   "metadata": {},
   "outputs": [
    {
     "name": "stdout",
     "output_type": "stream",
     "text": [
      "<class 'bool'>\n"
     ]
    }
   ],
   "source": [
    "num1 = True\n",
    "print(type(num1))"
   ]
  },
  {
   "cell_type": "code",
   "execution_count": 72,
   "id": "df84f1fd-c292-414c-bff3-c9d80123c793",
   "metadata": {},
   "outputs": [
    {
     "name": "stdout",
     "output_type": "stream",
     "text": [
      "<class 'bool'>\n"
     ]
    }
   ],
   "source": [
    "nu1 = False\n",
    "print(type(nu1))"
   ]
  },
  {
   "cell_type": "markdown",
   "id": "c1b13e43-d375-4e2a-9926-0e1afd235330",
   "metadata": {},
   "source": [
    "# A variable name cannot be any of the python kyewords."
   ]
  },
  {
   "cell_type": "code",
   "execution_count": 34,
   "id": "de3fb288-09ed-4ec0-ab49-4e4aad154f89",
   "metadata": {},
   "outputs": [],
   "source": [
    "#print = 56\n",
    "#print(print)"
   ]
  },
  {
   "cell_type": "code",
   "execution_count": 32,
   "id": "f0e1ebfe-d5ee-4240-b553-3e3c0ef9db8b",
   "metadata": {},
   "outputs": [],
   "source": [
    "#int = 2\n",
    "#print(int)"
   ]
  },
  {
   "cell_type": "markdown",
   "id": "01c23108-f95f-45fd-84b6-dc7231323f6f",
   "metadata": {},
   "source": [
    "# This is my 3rd class of Jupyter Notebook"
   ]
  },
  {
   "cell_type": "markdown",
   "id": "6821507f-8f67-4bf6-9973-5b68d696095d",
   "metadata": {},
   "source": [
    "# Arithmetic operator "
   ]
  },
  {
   "cell_type": "markdown",
   "id": "0ab9e215-f821-4e46-951d-77257b3333cd",
   "metadata": {},
   "source": [
    "# adition"
   ]
  },
  {
   "cell_type": "code",
   "execution_count": 7,
   "id": "dd81960b-3269-448d-9ac1-5eb800d8ce77",
   "metadata": {},
   "outputs": [
    {
     "name": "stdout",
     "output_type": "stream",
     "text": [
      "5\n"
     ]
    }
   ],
   "source": [
    "a = 2\n",
    "b = 3\n",
    "print(a+b)"
   ]
  },
  {
   "cell_type": "code",
   "execution_count": 9,
   "id": "90848668-e381-427a-a6b9-8865a7ec95e2",
   "metadata": {},
   "outputs": [
    {
     "name": "stdout",
     "output_type": "stream",
     "text": [
      "6.0\n"
     ]
    }
   ],
   "source": [
    "x = 1.5\n",
    "y = 4.5\n",
    "print(x+y)"
   ]
  },
  {
   "cell_type": "code",
   "execution_count": 13,
   "id": "d3a1f3d5-9045-4e70-86f1-8cf5615d6ff8",
   "metadata": {},
   "outputs": [
    {
     "name": "stdout",
     "output_type": "stream",
     "text": [
      "Hello world\n"
     ]
    }
   ],
   "source": [
    "a1 = \"Hello\"\n",
    "b1 = \"world\"\n",
    "print(a1+ \" \" +b1)"
   ]
  },
  {
   "cell_type": "code",
   "execution_count": 15,
   "id": "34e82260-2a04-452c-94d8-1b8be0e3ffff",
   "metadata": {},
   "outputs": [
    {
     "name": "stdout",
     "output_type": "stream",
     "text": [
      "(3+9j)\n"
     ]
    }
   ],
   "source": [
    "x1 = 2+3j\n",
    "y1 = 1+6j\n",
    "print(x1+y1)"
   ]
  },
  {
   "cell_type": "code",
   "execution_count": 17,
   "id": "31b42ead-9b5b-45c1-bfc0-e28c7c21f4fc",
   "metadata": {},
   "outputs": [
    {
     "name": "stdout",
     "output_type": "stream",
     "text": [
      "3\n"
     ]
    }
   ],
   "source": [
    "w1 = -6\n",
    "w2 = 9\n",
    "print(w1+w2)"
   ]
  },
  {
   "cell_type": "markdown",
   "id": "c9b6b7f3-835b-41a0-b236-2d334da73a40",
   "metadata": {},
   "source": [
    "# Subtraction operator"
   ]
  },
  {
   "cell_type": "code",
   "execution_count": 20,
   "id": "330e7286-6296-46f4-9b31-bbbe3c58d311",
   "metadata": {},
   "outputs": [
    {
     "name": "stdout",
     "output_type": "stream",
     "text": [
      "2\n"
     ]
    }
   ],
   "source": [
    "num1 = 5\n",
    "num2 = 3\n",
    "print(num1-num2)"
   ]
  },
  {
   "cell_type": "code",
   "execution_count": 24,
   "id": "abaafed0-73b3-4665-a0b6-a231725328c4",
   "metadata": {},
   "outputs": [
    {
     "name": "stdout",
     "output_type": "stream",
     "text": [
      "1.1999999999999993\n"
     ]
    }
   ],
   "source": [
    "a6 = 8.6\n",
    "b6 = 7.4\n",
    "print(a6-b6)"
   ]
  },
  {
   "cell_type": "code",
   "execution_count": 3,
   "id": "74684758-183a-4359-a694-2d008bf5c051",
   "metadata": {},
   "outputs": [
    {
     "name": "stdout",
     "output_type": "stream",
     "text": [
      "(2+4j)\n"
     ]
    }
   ],
   "source": [
    "a4 = 5+9j\n",
    "b4 = 3+5j\n",
    "print(a4-b4)"
   ]
  },
  {
   "cell_type": "markdown",
   "id": "efc64fa0-46bd-4e82-8078-b0b6a4e24735",
   "metadata": {},
   "source": [
    "# Multiplication operator"
   ]
  },
  {
   "cell_type": "code",
   "execution_count": 7,
   "id": "a85b4ef4-5c0c-45cb-b810-e09842334a8e",
   "metadata": {},
   "outputs": [
    {
     "name": "stdout",
     "output_type": "stream",
     "text": [
      "45\n"
     ]
    }
   ],
   "source": [
    "n = 5\n",
    "m = 9\n",
    "print(n*m)"
   ]
  },
  {
   "cell_type": "code",
   "execution_count": 9,
   "id": "5c69cb93-3ac9-4421-947d-e366c1785ecc",
   "metadata": {},
   "outputs": [
    {
     "name": "stdout",
     "output_type": "stream",
     "text": [
      "12.8024642013521\n"
     ]
    }
   ],
   "source": [
    "n1 = 3.4567876556765\n",
    "m1 = 9.3456765456756\n",
    "print(n1+m1)"
   ]
  },
  {
   "cell_type": "code",
   "execution_count": 13,
   "id": "a265a600-0c4e-4637-b9d7-05535e9b5944",
   "metadata": {},
   "outputs": [
    {
     "name": "stdout",
     "output_type": "stream",
     "text": [
      "hi I am Tanishahi I am Tanishahi I am Tanishahi I am Tanishahi I am Tanishahi I am Tanishahi I am Tanishahi I am Tanisha\n"
     ]
    }
   ],
   "source": [
    "str = \"hi I am Tanisha\"\n",
    "print(str*8)"
   ]
  },
  {
   "cell_type": "code",
   "execution_count": 15,
   "id": "3ffe1f0f-1861-40ff-a9b0-b2bdd8a82dec",
   "metadata": {},
   "outputs": [
    {
     "name": "stdout",
     "output_type": "stream",
     "text": [
      "(-32+44j)\n"
     ]
    }
   ],
   "source": [
    "a1 = 2+6j\n",
    "b1 = 5+7j\n",
    "print(a1*b1)"
   ]
  },
  {
   "cell_type": "markdown",
   "id": "272ef49a-2626-4d1a-a4e1-6b1e2908803d",
   "metadata": {},
   "source": [
    "# Divison operator"
   ]
  },
  {
   "cell_type": "code",
   "execution_count": 18,
   "id": "6ee04fe5-738a-4bc7-9fb6-8cbdbf11b78f",
   "metadata": {},
   "outputs": [
    {
     "name": "stdout",
     "output_type": "stream",
     "text": [
      "9.0\n"
     ]
    }
   ],
   "source": [
    "a = 45\n",
    "b = 5\n",
    "print(a/b)"
   ]
  },
  {
   "cell_type": "code",
   "execution_count": 20,
   "id": "6401ec8c-8e80-4cbd-9bf8-2b57d44559a7",
   "metadata": {},
   "outputs": [
    {
     "name": "stdout",
     "output_type": "stream",
     "text": [
      "100.00000949192204\n"
     ]
    }
   ],
   "source": [
    "a1 = 23456.7898765\n",
    "b1 = 234.5678765\n",
    "print(a1/b1)"
   ]
  },
  {
   "cell_type": "code",
   "execution_count": 22,
   "id": "b6bf3c21-eab1-4a15-8441-c2832e40ed39",
   "metadata": {},
   "outputs": [
    {
     "name": "stdout",
     "output_type": "stream",
     "text": [
      "(1.9-0.3j)\n"
     ]
    }
   ],
   "source": [
    "a2 = 5+7j\n",
    "b2 = 2+4j\n",
    "print(a2/b2)"
   ]
  },
  {
   "cell_type": "markdown",
   "id": "cda1c133-251b-4683-9abf-b9d9878c736c",
   "metadata": {},
   "source": [
    "# Modulous"
   ]
  },
  {
   "cell_type": "code",
   "execution_count": 25,
   "id": "3fcddc72-3811-4b79-886f-c5b37c9ba730",
   "metadata": {},
   "outputs": [
    {
     "name": "stdout",
     "output_type": "stream",
     "text": [
      "0\n"
     ]
    }
   ],
   "source": [
    "print(12%3)"
   ]
  },
  {
   "cell_type": "code",
   "execution_count": 27,
   "id": "ccaf5fd1-78fa-4dc5-922a-7efb890c4a30",
   "metadata": {},
   "outputs": [
    {
     "name": "stdout",
     "output_type": "stream",
     "text": [
      "9\n"
     ]
    }
   ],
   "source": [
    "print(123456543435656634566%23)"
   ]
  },
  {
   "cell_type": "code",
   "execution_count": 29,
   "id": "6fa5e416-420f-42d7-97d0-a0716a6c0536",
   "metadata": {},
   "outputs": [
    {
     "name": "stdout",
     "output_type": "stream",
     "text": [
      "1.956786700018637\n"
     ]
    }
   ],
   "source": [
    "a1 = 234567.4567867\n",
    "b1 = 2.3\n",
    "print(a1%b1)"
   ]
  },
  {
   "cell_type": "raw",
   "id": "e6888466-d80d-4819-a5ce-d14c2940e188",
   "metadata": {},
   "source": [
    "can't use complex"
   ]
  },
  {
   "cell_type": "markdown",
   "id": "29e66304-a711-4204-a471-ef2085c45226",
   "metadata": {},
   "source": [
    "# Floor Divison"
   ]
  },
  {
   "cell_type": "code",
   "execution_count": 32,
   "id": "c6b0c681-9182-42fe-9fc1-eed9bce6e294",
   "metadata": {},
   "outputs": [
    {
     "name": "stdout",
     "output_type": "stream",
     "text": [
      "4\n"
     ]
    }
   ],
   "source": [
    "print(12//3)"
   ]
  },
  {
   "cell_type": "code",
   "execution_count": 34,
   "id": "f54d17bd-67fb-4960-8a25-085f849b994c",
   "metadata": {},
   "outputs": [
    {
     "name": "stdout",
     "output_type": "stream",
     "text": [
      "1343499\n"
     ]
    }
   ],
   "source": [
    "print(45678976//34)"
   ]
  },
  {
   "cell_type": "code",
   "execution_count": 42,
   "id": "09faf5b9-421c-4c98-8509-e30ca059cb6d",
   "metadata": {},
   "outputs": [
    {
     "name": "stdout",
     "output_type": "stream",
     "text": [
      "1.0\n"
     ]
    }
   ],
   "source": [
    "print(89.67//87.6)"
   ]
  },
  {
   "cell_type": "markdown",
   "id": "388c9efb-99d5-4396-b0fb-e7d521918d98",
   "metadata": {},
   "source": [
    "# Exponent"
   ]
  },
  {
   "cell_type": "code",
   "execution_count": 45,
   "id": "52687032-932e-4f70-82ae-5ec28654b4dc",
   "metadata": {},
   "outputs": [
    {
     "name": "stdout",
     "output_type": "stream",
     "text": [
      "125\n"
     ]
    }
   ],
   "source": [
    "a = 5\n",
    "b = 3\n",
    "print(a**b)"
   ]
  },
  {
   "cell_type": "code",
   "execution_count": 47,
   "id": "7a051d72-c4e1-4b63-9c56-8e9fc86132ea",
   "metadata": {},
   "outputs": [
    {
     "name": "stdout",
     "output_type": "stream",
     "text": [
      "1881675294266192057183845897249314438536500138778338506499577195811866923768922264\n"
     ]
    }
   ],
   "source": [
    "print(1234567654345678764225677654**3)"
   ]
  },
  {
   "cell_type": "code",
   "execution_count": 1,
   "id": "284112de-08fe-45ef-92e1-076cd4e2145a",
   "metadata": {},
   "outputs": [
    {
     "name": "stdout",
     "output_type": "stream",
     "text": [
      "2.4\n"
     ]
    }
   ],
   "source": [
    "w = 60\n",
    "h = 5 \n",
    "v = h**2\n",
    "print(w/v)"
   ]
  },
  {
   "cell_type": "code",
   "execution_count": 3,
   "id": "9e95e874-a926-4845-8f5a-e01d0718db53",
   "metadata": {},
   "outputs": [
    {
     "name": "stdout",
     "output_type": "stream",
     "text": [
      "27.400698527921932\n"
     ]
    }
   ],
   "source": [
    "print(5.23456765434567**2)"
   ]
  },
  {
   "cell_type": "markdown",
   "id": "ecfbb854-5884-45e9-8d48-49466d86b670",
   "metadata": {},
   "source": [
    "# Boolean Operater"
   ]
  },
  {
   "cell_type": "code",
   "execution_count": 6,
   "id": "353beb2e-694d-43bb-b8ac-c06908322c52",
   "metadata": {},
   "outputs": [
    {
     "name": "stdout",
     "output_type": "stream",
     "text": [
      "<class 'bool'>\n"
     ]
    }
   ],
   "source": [
    "a = True\n",
    "print(type(a))"
   ]
  },
  {
   "cell_type": "code",
   "execution_count": 8,
   "id": "9ca500f0-0a3b-427b-8ef0-ec7db63ca11a",
   "metadata": {},
   "outputs": [
    {
     "name": "stdout",
     "output_type": "stream",
     "text": [
      "<class 'bool'>\n"
     ]
    }
   ],
   "source": [
    "a1 = False\n",
    "print(type(a1))"
   ]
  },
  {
   "cell_type": "markdown",
   "id": "3f385ebf-6043-4595-bc32-c0634881c57d",
   "metadata": {},
   "source": [
    "# Comparison Operator"
   ]
  },
  {
   "cell_type": "markdown",
   "id": "c64aeaf7-105e-4b60-94c9-49e35932a710",
   "metadata": {},
   "source": [
    "In python, Comparison operator are used to compare values.These operators return true or false based on whether the comparison is true or false"
   ]
  },
  {
   "cell_type": "markdown",
   "id": "e0ac5d9d-58a8-4dfe-90dd-64715ea6f88f",
   "metadata": {},
   "source": [
    "Equal to =="
   ]
  },
  {
   "cell_type": "code",
   "execution_count": 13,
   "id": "22bedaf7-ab6c-44a5-8801-8c2bd59ade84",
   "metadata": {},
   "outputs": [
    {
     "name": "stdout",
     "output_type": "stream",
     "text": [
      "True\n"
     ]
    }
   ],
   "source": [
    "x = 5\n",
    "y = 5 \n",
    "print(x==y)"
   ]
  },
  {
   "cell_type": "code",
   "execution_count": 15,
   "id": "af4f7102-a609-4a69-a824-9b707e10268b",
   "metadata": {},
   "outputs": [
    {
     "name": "stdout",
     "output_type": "stream",
     "text": [
      "False\n"
     ]
    }
   ],
   "source": [
    "x = 6\n",
    "y = 5 \n",
    "print(x==y)"
   ]
  },
  {
   "cell_type": "markdown",
   "id": "abefff0c-5501-4bbe-8c70-44245dd393ee",
   "metadata": {},
   "source": [
    "not equal !="
   ]
  },
  {
   "cell_type": "code",
   "execution_count": 18,
   "id": "cb0fae5b-9f12-4767-9a0b-b6a40c7ea9ed",
   "metadata": {},
   "outputs": [
    {
     "name": "stdout",
     "output_type": "stream",
     "text": [
      "True\n"
     ]
    }
   ],
   "source": [
    "x = 5 \n",
    "y = 3\n",
    "print(x!=y)"
   ]
  },
  {
   "cell_type": "code",
   "execution_count": 20,
   "id": "adbf535b-4496-4cf3-ada2-eaaf6f39ebec",
   "metadata": {},
   "outputs": [
    {
     "name": "stdout",
     "output_type": "stream",
     "text": [
      "False\n"
     ]
    }
   ],
   "source": [
    "x = 5 \n",
    "y = 5\n",
    "print(x!=y)"
   ]
  },
  {
   "cell_type": "markdown",
   "id": "9d8856f0-2fa4-4563-9996-979a2547ae54",
   "metadata": {},
   "source": [
    "Greater than >"
   ]
  },
  {
   "cell_type": "code",
   "execution_count": 23,
   "id": "6698ff93-71fa-4be4-b32a-22df0b635449",
   "metadata": {},
   "outputs": [
    {
     "name": "stdout",
     "output_type": "stream",
     "text": [
      "True\n"
     ]
    }
   ],
   "source": [
    "x = 5\n",
    "y = 3\n",
    "print(x>y)"
   ]
  },
  {
   "cell_type": "code",
   "execution_count": 25,
   "id": "9433a823-f5cf-4dbc-b051-1d306d868223",
   "metadata": {},
   "outputs": [
    {
     "name": "stdout",
     "output_type": "stream",
     "text": [
      "False\n"
     ]
    }
   ],
   "source": [
    "x = 5\n",
    "y = 13\n",
    "print(x>y)"
   ]
  },
  {
   "cell_type": "markdown",
   "id": "ecf40640-d43a-453e-a1d0-417fb5ad4c55",
   "metadata": {},
   "source": [
    "less than <"
   ]
  },
  {
   "cell_type": "code",
   "execution_count": 28,
   "id": "ec7d460b-4d3b-4c43-af9b-bc132a24ac0f",
   "metadata": {},
   "outputs": [
    {
     "name": "stdout",
     "output_type": "stream",
     "text": [
      "True\n"
     ]
    }
   ],
   "source": [
    "print(56<89)"
   ]
  },
  {
   "cell_type": "code",
   "execution_count": 30,
   "id": "2c0eb2d8-79cf-4aa4-959b-f4a1806d2be9",
   "metadata": {},
   "outputs": [
    {
     "name": "stdout",
     "output_type": "stream",
     "text": [
      "False\n"
     ]
    }
   ],
   "source": [
    "print(156<89)"
   ]
  },
  {
   "cell_type": "markdown",
   "id": "8fa88aa3-1025-41a8-a6d5-96aefd2ec780",
   "metadata": {},
   "source": [
    "greater than or equal to >="
   ]
  },
  {
   "cell_type": "code",
   "execution_count": 33,
   "id": "f2f01924-ae63-486e-a57a-dad1e0dcb4fa",
   "metadata": {},
   "outputs": [
    {
     "name": "stdout",
     "output_type": "stream",
     "text": [
      "True\n"
     ]
    }
   ],
   "source": [
    "x = 5\n",
    "y = 5\n",
    "print(x>=y)"
   ]
  },
  {
   "cell_type": "markdown",
   "id": "36ff6dd2-1d0b-4078-adf1-4c4e9415504a",
   "metadata": {},
   "source": [
    "less than or equal to <="
   ]
  },
  {
   "cell_type": "code",
   "execution_count": 36,
   "id": "56d70daa-9ed3-46bc-80f3-144635620652",
   "metadata": {},
   "outputs": [
    {
     "name": "stdout",
     "output_type": "stream",
     "text": [
      "True\n"
     ]
    }
   ],
   "source": [
    "x = 5\n",
    "y = 5\n",
    "print(x<=y)"
   ]
  },
  {
   "cell_type": "markdown",
   "id": "d0996422-772f-49a2-8679-17850d15caf4",
   "metadata": {},
   "source": [
    "# Logical Operator"
   ]
  },
  {
   "cell_type": "code",
   "execution_count": 39,
   "id": "0ece8272-6a3f-4d31-8619-24d4bf055c96",
   "metadata": {},
   "outputs": [
    {
     "name": "stdout",
     "output_type": "stream",
     "text": [
      "False\n"
     ]
    }
   ],
   "source": [
    "x = True\n",
    "y = False\n",
    "print(x and y)"
   ]
  },
  {
   "cell_type": "code",
   "execution_count": 41,
   "id": "1ca85dcb-d818-4e9d-8963-bf7a3c6eb5b1",
   "metadata": {},
   "outputs": [
    {
     "name": "stdout",
     "output_type": "stream",
     "text": [
      "True\n"
     ]
    }
   ],
   "source": [
    "x = True\n",
    "y = False\n",
    "print(x or y)"
   ]
  },
  {
   "cell_type": "code",
   "execution_count": 52,
   "id": "c05f0b68-7172-40f3-96e5-7726ac3cb658",
   "metadata": {},
   "outputs": [
    {
     "name": "stdout",
     "output_type": "stream",
     "text": [
      "False\n"
     ]
    }
   ],
   "source": [
    "x = True\n",
    "print(not x)"
   ]
  },
  {
   "cell_type": "code",
   "execution_count": 50,
   "id": "c7a011e0-f62a-4caf-83e1-41e5c93ddbee",
   "metadata": {},
   "outputs": [
    {
     "name": "stdout",
     "output_type": "stream",
     "text": [
      "True\n"
     ]
    }
   ],
   "source": [
    "x = False\n",
    "print(not x)"
   ]
  },
  {
   "cell_type": "markdown",
   "id": "a705911f-7933-432f-9ed5-70c89f019b79",
   "metadata": {},
   "source": [
    "# This is my 4th class of Jupyter Notebook"
   ]
  },
  {
   "cell_type": "markdown",
   "id": "7af1e17a-7e9a-4f32-8351-597562858985",
   "metadata": {},
   "source": [
    "# Built in functions"
   ]
  },
  {
   "cell_type": "markdown",
   "id": "bbafbf35-c596-467c-92fb-978c265cec6b",
   "metadata": {},
   "source": [
    "## Float function"
   ]
  },
  {
   "cell_type": "code",
   "execution_count": 61,
   "id": "aa6e4a1c-7b67-42f7-8f80-526f612ea08e",
   "metadata": {},
   "outputs": [
    {
     "name": "stdout",
     "output_type": "stream",
     "text": [
      "<class 'int'>\n",
      "10.0\n",
      "<class 'float'>\n"
     ]
    }
   ],
   "source": [
    "num_int = 10\n",
    "print(type(num_int))\n",
    "a = float(num_int)\n",
    "print(a)\n",
    "print(type(a))"
   ]
  },
  {
   "cell_type": "code",
   "execution_count": 65,
   "id": "df1170e3-ddc6-4f77-a269-a51db3d10fb5",
   "metadata": {},
   "outputs": [
    {
     "name": "stdout",
     "output_type": "stream",
     "text": [
      "<class 'str'>\n",
      "3.56\n",
      "<class 'float'>\n"
     ]
    }
   ],
   "source": [
    "a = \"3.56\"\n",
    "print(type(a))\n",
    "b = float(a)\n",
    "print(b)\n",
    "print(type(b))"
   ]
  },
  {
   "cell_type": "markdown",
   "id": "a7ee60b9-292d-4a81-bc4e-7a2c7d3472ea",
   "metadata": {},
   "source": [
    "# int function"
   ]
  },
  {
   "cell_type": "code",
   "execution_count": 4,
   "id": "f2ccb9b3-2e34-4bcd-bcc8-0253fa8f66b4",
   "metadata": {},
   "outputs": [
    {
     "name": "stdout",
     "output_type": "stream",
     "text": [
      "<class 'float'>\n",
      "5\n",
      "<class 'int'>\n"
     ]
    }
   ],
   "source": [
    "a = 5.6787896765\n",
    "print(type(a))\n",
    "c = int(a)\n",
    "print(c)\n",
    "print(type(c))"
   ]
  },
  {
   "cell_type": "code",
   "execution_count": 8,
   "id": "81bc87b7-4b70-46c2-802e-300cc52ae4f3",
   "metadata": {},
   "outputs": [
    {
     "name": "stdout",
     "output_type": "stream",
     "text": [
      "<class 'str'>\n",
      "222\n",
      "<class 'int'>\n"
     ]
    }
   ],
   "source": [
    "a1 = \"222\"\n",
    "print(type(a1))\n",
    "b1 = int(a1)\n",
    "print(b1)\n",
    "print(type(b1))"
   ]
  },
  {
   "cell_type": "markdown",
   "id": "4a31f2c2-09d5-428f-b9d3-35bcbb4669dd",
   "metadata": {},
   "source": [
    "# str function"
   ]
  },
  {
   "cell_type": "code",
   "execution_count": 21,
   "id": "9b03726a-737e-496d-9c7c-ece91db340e0",
   "metadata": {},
   "outputs": [
    {
     "name": "stdout",
     "output_type": "stream",
     "text": [
      "<class 'int'>\n",
      "23\n",
      "<class 'str'>\n",
      "232\n",
      "25\n"
     ]
    }
   ],
   "source": [
    "a2 = 23\n",
    "print(type(a2))\n",
    "b = str(a2)\n",
    "print(b)\n",
    "print(type(b))\n",
    "c = \"2\"\n",
    "print(b+c)\n",
    "print(a2+2)"
   ]
  },
  {
   "cell_type": "code",
   "execution_count": 23,
   "id": "ec6b0b64-7315-4f4e-b8c5-41227b56e1db",
   "metadata": {},
   "outputs": [
    {
     "name": "stdout",
     "output_type": "stream",
     "text": [
      "<class 'float'>\n",
      "3.567876545676\n",
      "<class 'str'>\n"
     ]
    }
   ],
   "source": [
    "x = 3.567876545676\n",
    "print(type(x))\n",
    "y = str(x)\n",
    "print(y)\n",
    "print(type(y))"
   ]
  },
  {
   "cell_type": "markdown",
   "id": "93f8ddcc-ad9c-42ba-96e4-bbd280e42e0d",
   "metadata": {},
   "source": [
    "# Complex function"
   ]
  },
  {
   "cell_type": "code",
   "execution_count": 26,
   "id": "32004e70-8ecc-4b4b-b43a-20fe06756b71",
   "metadata": {},
   "outputs": [
    {
     "name": "stdout",
     "output_type": "stream",
     "text": [
      "(2+3j)\n"
     ]
    }
   ],
   "source": [
    "comp = complex(2,3)\n",
    "print(comp)"
   ]
  },
  {
   "cell_type": "code",
   "execution_count": 28,
   "id": "af96c226-d35b-41e6-a182-8fcd51732da0",
   "metadata": {},
   "outputs": [
    {
     "name": "stdout",
     "output_type": "stream",
     "text": [
      "(2+789j)\n"
     ]
    }
   ],
   "source": [
    "y = complex(2 , 789)\n",
    "print(y)"
   ]
  },
  {
   "cell_type": "markdown",
   "id": "c0f60a14-3994-4a7d-9af0-905bdd14a026",
   "metadata": {},
   "source": [
    "# Abs function"
   ]
  },
  {
   "cell_type": "code",
   "execution_count": 31,
   "id": "1291f9ac-bbd3-447a-b4c9-560b47b71525",
   "metadata": {},
   "outputs": [
    {
     "name": "stdout",
     "output_type": "stream",
     "text": [
      "23\n"
     ]
    }
   ],
   "source": [
    "a = -23\n",
    "print(abs(a))"
   ]
  },
  {
   "cell_type": "code",
   "execution_count": 33,
   "id": "cd9267df-297f-4598-bcee-7df7a38afa97",
   "metadata": {},
   "outputs": [
    {
     "name": "stdout",
     "output_type": "stream",
     "text": [
      "4.456765567876547\n"
     ]
    }
   ],
   "source": [
    "y = -4.456765567876547\n",
    "print(abs(y))"
   ]
  },
  {
   "cell_type": "code",
   "execution_count": 39,
   "id": "2dc48d8f-a1b2-4bb0-9ae8-98e4af826eb1",
   "metadata": {},
   "outputs": [
    {
     "name": "stdout",
     "output_type": "stream",
     "text": [
      "5.0\n"
     ]
    }
   ],
   "source": [
    "z = -3+4j\n",
    "print(abs(z))"
   ]
  },
  {
   "cell_type": "markdown",
   "id": "cba090c0-7196-4950-99a2-b7b79241f2bf",
   "metadata": {},
   "source": [
    "# len function"
   ]
  },
  {
   "cell_type": "code",
   "execution_count": 42,
   "id": "8934ef43-670b-40ee-b25b-de854a50f785",
   "metadata": {},
   "outputs": [
    {
     "name": "stdout",
     "output_type": "stream",
     "text": [
      "8\n"
     ]
    }
   ],
   "source": [
    "y = [45,56,56,89,90,12,34,67]\n",
    "print(len(y))"
   ]
  },
  {
   "cell_type": "code",
   "execution_count": 44,
   "id": "c5220631-27fe-43f2-b96c-90ad414fd476",
   "metadata": {},
   "outputs": [
    {
     "name": "stdout",
     "output_type": "stream",
     "text": [
      "18\n"
     ]
    }
   ],
   "source": [
    "z = \"hello I am Tanisha\"\n",
    "print(len(z))"
   ]
  },
  {
   "cell_type": "code",
   "execution_count": 46,
   "id": "34849833-950b-416a-8362-e25bb29050ef",
   "metadata": {},
   "outputs": [
    {
     "name": "stdout",
     "output_type": "stream",
     "text": [
      "7\n"
     ]
    }
   ],
   "source": [
    "b = \"cat dog\"\n",
    "print(len(b))"
   ]
  },
  {
   "cell_type": "markdown",
   "id": "491478e6-a15b-4af1-a8ad-d6f838979346",
   "metadata": {},
   "source": [
    "# This is my 5th class of Jupyter Notebook"
   ]
  },
  {
   "cell_type": "markdown",
   "id": "99e1f6ce-1bbf-431a-80ea-614df88395b8",
   "metadata": {},
   "source": [
    "# Built in functions "
   ]
  },
  {
   "cell_type": "markdown",
   "id": "87a9d158-7797-4cd8-8037-c8e0367cd8b7",
   "metadata": {},
   "source": [
    "## part-2"
   ]
  },
  {
   "cell_type": "markdown",
   "id": "a0bcf3b9-098c-4a10-b305-bf0d70cb6eda",
   "metadata": {},
   "source": [
    "# Bin function"
   ]
  },
  {
   "cell_type": "code",
   "execution_count": null,
   "id": "cf5268bb-91ca-47bd-91b2-e0a309374aa2",
   "metadata": {},
   "outputs": [],
   "source": [
    "The bin() function in python is used to\n",
    "convert an integer number ti its\n",
    "binary representation as a string prefixed with '0b'.\n",
    "It takes an integer as an argument\n",
    "and returns its binary representation."
   ]
  },
  {
   "cell_type": "code",
   "execution_count": 52,
   "id": "49455872-31da-4f1a-8bd2-8b1f39872df6",
   "metadata": {},
   "outputs": [
    {
     "name": "stdout",
     "output_type": "stream",
     "text": [
      "0b1010\n"
     ]
    }
   ],
   "source": [
    "binary_rep = bin(10)\n",
    "print(binary_rep)"
   ]
  },
  {
   "cell_type": "code",
   "execution_count": 54,
   "id": "7e51fbfc-3081-4ea9-a598-0756df30aa68",
   "metadata": {},
   "outputs": [
    {
     "name": "stdout",
     "output_type": "stream",
     "text": [
      "0b11001000\n"
     ]
    }
   ],
   "source": [
    "z = bin(200)\n",
    "print(z)"
   ]
  },
  {
   "cell_type": "code",
   "execution_count": 56,
   "id": "c0bf0c40-1ab7-4cab-a72d-9a3bd94b1044",
   "metadata": {},
   "outputs": [
    {
     "name": "stdout",
     "output_type": "stream",
     "text": [
      "0b110001100001100111011111111111000001011110000100011000000110111010001\n"
     ]
    }
   ],
   "source": [
    "e = bin(456789976567897656785)\n",
    "print(e)"
   ]
  },
  {
   "cell_type": "markdown",
   "id": "921062be-b4cd-4782-a4b8-e9f259cd22ce",
   "metadata": {},
   "source": [
    "# Sum function"
   ]
  },
  {
   "cell_type": "code",
   "execution_count": null,
   "id": "5c364283-c586-466a-946f-5f5f28428e2f",
   "metadata": {},
   "outputs": [],
   "source": [
    "The sum() function in python is used to calculate the sum\n",
    "of elements in an iterable, such as lists, tuples, and other iterable objects."
   ]
  },
  {
   "cell_type": "code",
   "execution_count": 59,
   "id": "53f22b9b-4e4b-462b-ae99-a5a26c6ce61a",
   "metadata": {},
   "outputs": [
    {
     "name": "stdout",
     "output_type": "stream",
     "text": [
      "171737\n"
     ]
    }
   ],
   "source": [
    "my_list = [56,67,89,23,45,67,890,23,45,678,90989,78765]\n",
    "a = sum(my_list)\n",
    "print(a)"
   ]
  },
  {
   "cell_type": "code",
   "execution_count": 61,
   "id": "7a4168d0-f1e7-4135-9142-5fc9adf4382e",
   "metadata": {},
   "outputs": [
    {
     "name": "stdout",
     "output_type": "stream",
     "text": [
      "Tanisha Hafsa\n"
     ]
    }
   ],
   "source": [
    "a = \"Tanisha\"\n",
    "b = \"Hafsa\"\n",
    "print(a+ \" \" +b)"
   ]
  },
  {
   "cell_type": "code",
   "execution_count": 63,
   "id": "845ccdde-aeb4-4388-8569-e58cdd13cf14",
   "metadata": {},
   "outputs": [
    {
     "name": "stdout",
     "output_type": "stream",
     "text": [
      "25\n"
     ]
    }
   ],
   "source": [
    "a = [1,2,3,4,5]\n",
    "starting_value = 10\n",
    "total = sum(a,starting_value)\n",
    "print(total)"
   ]
  },
  {
   "cell_type": "markdown",
   "id": "fbc713be-6be0-4c99-b743-dbe12fc1f4fe",
   "metadata": {},
   "source": [
    "# Eval function"
   ]
  },
  {
   "cell_type": "code",
   "execution_count": null,
   "id": "59807534-02f7-44c8-9cf7-e54f49c64f8a",
   "metadata": {},
   "outputs": [],
   "source": [
    "eval(): Evaluates a python expression in a string"
   ]
  },
  {
   "cell_type": "code",
   "execution_count": 70,
   "id": "cbc3feda-cc91-4edf-818c-0fe7a09c3077",
   "metadata": {},
   "outputs": [
    {
     "name": "stdout",
     "output_type": "stream",
     "text": [
      "20\n"
     ]
    }
   ],
   "source": [
    "a = 10\n",
    "y = 5 \n",
    "expression = \"a+y*2\"\n",
    "print(eval(expression))"
   ]
  },
  {
   "cell_type": "code",
   "execution_count": 72,
   "id": "c081e059-71ad-4e21-85cb-f426020edb8a",
   "metadata": {},
   "outputs": [
    {
     "name": "stdout",
     "output_type": "stream",
     "text": [
      "6.0\n",
      "<class 'str'>\n"
     ]
    }
   ],
   "source": [
    "exp = \"5/2 + 3.5\"\n",
    "print(eval(exp))\n",
    "print(type(exp))"
   ]
  },
  {
   "cell_type": "code",
   "execution_count": 74,
   "id": "0abfa286-f619-4064-9d2c-a46984507176",
   "metadata": {},
   "outputs": [
    {
     "name": "stdout",
     "output_type": "stream",
     "text": [
      "42011.875\n"
     ]
    }
   ],
   "source": [
    "exp1 = \"1234*34+67-89/8\"\n",
    "print(eval(exp1))"
   ]
  },
  {
   "cell_type": "code",
   "execution_count": 76,
   "id": "c0636dd4-17f3-4fd6-a057-595231902397",
   "metadata": {},
   "outputs": [
    {
     "name": "stdout",
     "output_type": "stream",
     "text": [
      "-166.79999999999998\n"
     ]
    }
   ],
   "source": [
    "x = 5\n",
    "y = 2.4\n",
    "z = 32\n",
    "exp = \"x+y-z*23/5-9*3\"\n",
    "print(eval(exp))"
   ]
  },
  {
   "cell_type": "markdown",
   "id": "ff2615cd-d3e3-42d9-9af6-77d8b74dbbd0",
   "metadata": {},
   "source": [
    "# Help function"
   ]
  },
  {
   "cell_type": "code",
   "execution_count": null,
   "id": "50061f72-682b-4a13-806e-67991b6924eb",
   "metadata": {},
   "outputs": [],
   "source": [
    "The python help function is used to display the\n",
    "documeantation of modules, function, classes, keywords, etc"
   ]
  },
  {
   "cell_type": "code",
   "execution_count": 79,
   "id": "ea28900c-13c6-44c4-a7b7-18376f63e17e",
   "metadata": {},
   "outputs": [
    {
     "name": "stdout",
     "output_type": "stream",
     "text": [
      "Help on built-in function print in module builtins:\n",
      "\n",
      "print(*args, sep=' ', end='\\n', file=None, flush=False)\n",
      "    Prints the values to a stream, or to sys.stdout by default.\n",
      "\n",
      "    sep\n",
      "      string inserted between values, default a space.\n",
      "    end\n",
      "      string appended after the last value, default a newline.\n",
      "    file\n",
      "      a file-like object (stream); defaults to the current sys.stdout.\n",
      "    flush\n",
      "      whether to forcibly flush the stream.\n",
      "\n"
     ]
    }
   ],
   "source": [
    "help(print)"
   ]
  },
  {
   "cell_type": "code",
   "execution_count": 81,
   "id": "932abf0e-25d9-4c06-861a-6f6ba3c0abeb",
   "metadata": {},
   "outputs": [
    {
     "name": "stdout",
     "output_type": "stream",
     "text": [
      "Help on class int in module builtins:\n",
      "\n",
      "class int(object)\n",
      " |  int([x]) -> integer\n",
      " |  int(x, base=10) -> integer\n",
      " |\n",
      " |  Convert a number or string to an integer, or return 0 if no arguments\n",
      " |  are given.  If x is a number, return x.__int__().  For floating-point\n",
      " |  numbers, this truncates towards zero.\n",
      " |\n",
      " |  If x is not a number or if base is given, then x must be a string,\n",
      " |  bytes, or bytearray instance representing an integer literal in the\n",
      " |  given base.  The literal can be preceded by '+' or '-' and be surrounded\n",
      " |  by whitespace.  The base defaults to 10.  Valid bases are 0 and 2-36.\n",
      " |  Base 0 means to interpret the base from the string as an integer literal.\n",
      " |  >>> int('0b100', base=0)\n",
      " |  4\n",
      " |\n",
      " |  Built-in subclasses:\n",
      " |      bool\n",
      " |\n",
      " |  Methods defined here:\n",
      " |\n",
      " |  __abs__(self, /)\n",
      " |      abs(self)\n",
      " |\n",
      " |  __add__(self, value, /)\n",
      " |      Return self+value.\n",
      " |\n",
      " |  __and__(self, value, /)\n",
      " |      Return self&value.\n",
      " |\n",
      " |  __bool__(self, /)\n",
      " |      True if self else False\n",
      " |\n",
      " |  __ceil__(...)\n",
      " |      Ceiling of an Integral returns itself.\n",
      " |\n",
      " |  __divmod__(self, value, /)\n",
      " |      Return divmod(self, value).\n",
      " |\n",
      " |  __eq__(self, value, /)\n",
      " |      Return self==value.\n",
      " |\n",
      " |  __float__(self, /)\n",
      " |      float(self)\n",
      " |\n",
      " |  __floor__(...)\n",
      " |      Flooring an Integral returns itself.\n",
      " |\n",
      " |  __floordiv__(self, value, /)\n",
      " |      Return self//value.\n",
      " |\n",
      " |  __format__(self, format_spec, /)\n",
      " |      Convert to a string according to format_spec.\n",
      " |\n",
      " |  __ge__(self, value, /)\n",
      " |      Return self>=value.\n",
      " |\n",
      " |  __getattribute__(self, name, /)\n",
      " |      Return getattr(self, name).\n",
      " |\n",
      " |  __getnewargs__(self, /)\n",
      " |\n",
      " |  __gt__(self, value, /)\n",
      " |      Return self>value.\n",
      " |\n",
      " |  __hash__(self, /)\n",
      " |      Return hash(self).\n",
      " |\n",
      " |  __index__(self, /)\n",
      " |      Return self converted to an integer, if self is suitable for use as an index into a list.\n",
      " |\n",
      " |  __int__(self, /)\n",
      " |      int(self)\n",
      " |\n",
      " |  __invert__(self, /)\n",
      " |      ~self\n",
      " |\n",
      " |  __le__(self, value, /)\n",
      " |      Return self<=value.\n",
      " |\n",
      " |  __lshift__(self, value, /)\n",
      " |      Return self<<value.\n",
      " |\n",
      " |  __lt__(self, value, /)\n",
      " |      Return self<value.\n",
      " |\n",
      " |  __mod__(self, value, /)\n",
      " |      Return self%value.\n",
      " |\n",
      " |  __mul__(self, value, /)\n",
      " |      Return self*value.\n",
      " |\n",
      " |  __ne__(self, value, /)\n",
      " |      Return self!=value.\n",
      " |\n",
      " |  __neg__(self, /)\n",
      " |      -self\n",
      " |\n",
      " |  __or__(self, value, /)\n",
      " |      Return self|value.\n",
      " |\n",
      " |  __pos__(self, /)\n",
      " |      +self\n",
      " |\n",
      " |  __pow__(self, value, mod=None, /)\n",
      " |      Return pow(self, value, mod).\n",
      " |\n",
      " |  __radd__(self, value, /)\n",
      " |      Return value+self.\n",
      " |\n",
      " |  __rand__(self, value, /)\n",
      " |      Return value&self.\n",
      " |\n",
      " |  __rdivmod__(self, value, /)\n",
      " |      Return divmod(value, self).\n",
      " |\n",
      " |  __repr__(self, /)\n",
      " |      Return repr(self).\n",
      " |\n",
      " |  __rfloordiv__(self, value, /)\n",
      " |      Return value//self.\n",
      " |\n",
      " |  __rlshift__(self, value, /)\n",
      " |      Return value<<self.\n",
      " |\n",
      " |  __rmod__(self, value, /)\n",
      " |      Return value%self.\n",
      " |\n",
      " |  __rmul__(self, value, /)\n",
      " |      Return value*self.\n",
      " |\n",
      " |  __ror__(self, value, /)\n",
      " |      Return value|self.\n",
      " |\n",
      " |  __round__(...)\n",
      " |      Rounding an Integral returns itself.\n",
      " |\n",
      " |      Rounding with an ndigits argument also returns an integer.\n",
      " |\n",
      " |  __rpow__(self, value, mod=None, /)\n",
      " |      Return pow(value, self, mod).\n",
      " |\n",
      " |  __rrshift__(self, value, /)\n",
      " |      Return value>>self.\n",
      " |\n",
      " |  __rshift__(self, value, /)\n",
      " |      Return self>>value.\n",
      " |\n",
      " |  __rsub__(self, value, /)\n",
      " |      Return value-self.\n",
      " |\n",
      " |  __rtruediv__(self, value, /)\n",
      " |      Return value/self.\n",
      " |\n",
      " |  __rxor__(self, value, /)\n",
      " |      Return value^self.\n",
      " |\n",
      " |  __sizeof__(self, /)\n",
      " |      Returns size in memory, in bytes.\n",
      " |\n",
      " |  __sub__(self, value, /)\n",
      " |      Return self-value.\n",
      " |\n",
      " |  __truediv__(self, value, /)\n",
      " |      Return self/value.\n",
      " |\n",
      " |  __trunc__(...)\n",
      " |      Truncating an Integral returns itself.\n",
      " |\n",
      " |  __xor__(self, value, /)\n",
      " |      Return self^value.\n",
      " |\n",
      " |  as_integer_ratio(self, /)\n",
      " |      Return a pair of integers, whose ratio is equal to the original int.\n",
      " |\n",
      " |      The ratio is in lowest terms and has a positive denominator.\n",
      " |\n",
      " |      >>> (10).as_integer_ratio()\n",
      " |      (10, 1)\n",
      " |      >>> (-10).as_integer_ratio()\n",
      " |      (-10, 1)\n",
      " |      >>> (0).as_integer_ratio()\n",
      " |      (0, 1)\n",
      " |\n",
      " |  bit_count(self, /)\n",
      " |      Number of ones in the binary representation of the absolute value of self.\n",
      " |\n",
      " |      Also known as the population count.\n",
      " |\n",
      " |      >>> bin(13)\n",
      " |      '0b1101'\n",
      " |      >>> (13).bit_count()\n",
      " |      3\n",
      " |\n",
      " |  bit_length(self, /)\n",
      " |      Number of bits necessary to represent self in binary.\n",
      " |\n",
      " |      >>> bin(37)\n",
      " |      '0b100101'\n",
      " |      >>> (37).bit_length()\n",
      " |      6\n",
      " |\n",
      " |  conjugate(...)\n",
      " |      Returns self, the complex conjugate of any int.\n",
      " |\n",
      " |  is_integer(self, /)\n",
      " |      Returns True. Exists for duck type compatibility with float.is_integer.\n",
      " |\n",
      " |  to_bytes(self, /, length=1, byteorder='big', *, signed=False)\n",
      " |      Return an array of bytes representing an integer.\n",
      " |\n",
      " |      length\n",
      " |        Length of bytes object to use.  An OverflowError is raised if the\n",
      " |        integer is not representable with the given number of bytes.  Default\n",
      " |        is length 1.\n",
      " |      byteorder\n",
      " |        The byte order used to represent the integer.  If byteorder is 'big',\n",
      " |        the most significant byte is at the beginning of the byte array.  If\n",
      " |        byteorder is 'little', the most significant byte is at the end of the\n",
      " |        byte array.  To request the native byte order of the host system, use\n",
      " |        `sys.byteorder' as the byte order value.  Default is to use 'big'.\n",
      " |      signed\n",
      " |        Determines whether two's complement is used to represent the integer.\n",
      " |        If signed is False and a negative integer is given, an OverflowError\n",
      " |        is raised.\n",
      " |\n",
      " |  ----------------------------------------------------------------------\n",
      " |  Class methods defined here:\n",
      " |\n",
      " |  from_bytes(bytes, byteorder='big', *, signed=False)\n",
      " |      Return the integer represented by the given array of bytes.\n",
      " |\n",
      " |      bytes\n",
      " |        Holds the array of bytes to convert.  The argument must either\n",
      " |        support the buffer protocol or be an iterable object producing bytes.\n",
      " |        Bytes and bytearray are examples of built-in objects that support the\n",
      " |        buffer protocol.\n",
      " |      byteorder\n",
      " |        The byte order used to represent the integer.  If byteorder is 'big',\n",
      " |        the most significant byte is at the beginning of the byte array.  If\n",
      " |        byteorder is 'little', the most significant byte is at the end of the\n",
      " |        byte array.  To request the native byte order of the host system, use\n",
      " |        `sys.byteorder' as the byte order value.  Default is to use 'big'.\n",
      " |      signed\n",
      " |        Indicates whether two's complement is used to represent the integer.\n",
      " |\n",
      " |  ----------------------------------------------------------------------\n",
      " |  Static methods defined here:\n",
      " |\n",
      " |  __new__(*args, **kwargs)\n",
      " |      Create and return a new object.  See help(type) for accurate signature.\n",
      " |\n",
      " |  ----------------------------------------------------------------------\n",
      " |  Data descriptors defined here:\n",
      " |\n",
      " |  denominator\n",
      " |      the denominator of a rational number in lowest terms\n",
      " |\n",
      " |  imag\n",
      " |      the imaginary part of a complex number\n",
      " |\n",
      " |  numerator\n",
      " |      the numerator of a rational number in lowest terms\n",
      " |\n",
      " |  real\n",
      " |      the real part of a complex number\n",
      "\n"
     ]
    }
   ],
   "source": [
    "help(int)"
   ]
  },
  {
   "cell_type": "code",
   "execution_count": 83,
   "id": "c4bcac01-b9f6-428c-b2b4-eaa89bb09ecb",
   "metadata": {},
   "outputs": [
    {
     "name": "stdout",
     "output_type": "stream",
     "text": [
      "Help on class float in module builtins:\n",
      "\n",
      "class float(object)\n",
      " |  float(x=0, /)\n",
      " |\n",
      " |  Convert a string or number to a floating-point number, if possible.\n",
      " |\n",
      " |  Methods defined here:\n",
      " |\n",
      " |  __abs__(self, /)\n",
      " |      abs(self)\n",
      " |\n",
      " |  __add__(self, value, /)\n",
      " |      Return self+value.\n",
      " |\n",
      " |  __bool__(self, /)\n",
      " |      True if self else False\n",
      " |\n",
      " |  __ceil__(self, /)\n",
      " |      Return the ceiling as an Integral.\n",
      " |\n",
      " |  __divmod__(self, value, /)\n",
      " |      Return divmod(self, value).\n",
      " |\n",
      " |  __eq__(self, value, /)\n",
      " |      Return self==value.\n",
      " |\n",
      " |  __float__(self, /)\n",
      " |      float(self)\n",
      " |\n",
      " |  __floor__(self, /)\n",
      " |      Return the floor as an Integral.\n",
      " |\n",
      " |  __floordiv__(self, value, /)\n",
      " |      Return self//value.\n",
      " |\n",
      " |  __format__(self, format_spec, /)\n",
      " |      Formats the float according to format_spec.\n",
      " |\n",
      " |  __ge__(self, value, /)\n",
      " |      Return self>=value.\n",
      " |\n",
      " |  __getnewargs__(self, /)\n",
      " |\n",
      " |  __gt__(self, value, /)\n",
      " |      Return self>value.\n",
      " |\n",
      " |  __hash__(self, /)\n",
      " |      Return hash(self).\n",
      " |\n",
      " |  __int__(self, /)\n",
      " |      int(self)\n",
      " |\n",
      " |  __le__(self, value, /)\n",
      " |      Return self<=value.\n",
      " |\n",
      " |  __lt__(self, value, /)\n",
      " |      Return self<value.\n",
      " |\n",
      " |  __mod__(self, value, /)\n",
      " |      Return self%value.\n",
      " |\n",
      " |  __mul__(self, value, /)\n",
      " |      Return self*value.\n",
      " |\n",
      " |  __ne__(self, value, /)\n",
      " |      Return self!=value.\n",
      " |\n",
      " |  __neg__(self, /)\n",
      " |      -self\n",
      " |\n",
      " |  __pos__(self, /)\n",
      " |      +self\n",
      " |\n",
      " |  __pow__(self, value, mod=None, /)\n",
      " |      Return pow(self, value, mod).\n",
      " |\n",
      " |  __radd__(self, value, /)\n",
      " |      Return value+self.\n",
      " |\n",
      " |  __rdivmod__(self, value, /)\n",
      " |      Return divmod(value, self).\n",
      " |\n",
      " |  __repr__(self, /)\n",
      " |      Return repr(self).\n",
      " |\n",
      " |  __rfloordiv__(self, value, /)\n",
      " |      Return value//self.\n",
      " |\n",
      " |  __rmod__(self, value, /)\n",
      " |      Return value%self.\n",
      " |\n",
      " |  __rmul__(self, value, /)\n",
      " |      Return value*self.\n",
      " |\n",
      " |  __round__(self, ndigits=None, /)\n",
      " |      Return the Integral closest to x, rounding half toward even.\n",
      " |\n",
      " |      When an argument is passed, work like built-in round(x, ndigits).\n",
      " |\n",
      " |  __rpow__(self, value, mod=None, /)\n",
      " |      Return pow(value, self, mod).\n",
      " |\n",
      " |  __rsub__(self, value, /)\n",
      " |      Return value-self.\n",
      " |\n",
      " |  __rtruediv__(self, value, /)\n",
      " |      Return value/self.\n",
      " |\n",
      " |  __sub__(self, value, /)\n",
      " |      Return self-value.\n",
      " |\n",
      " |  __truediv__(self, value, /)\n",
      " |      Return self/value.\n",
      " |\n",
      " |  __trunc__(self, /)\n",
      " |      Return the Integral closest to x between 0 and x.\n",
      " |\n",
      " |  as_integer_ratio(self, /)\n",
      " |      Return a pair of integers, whose ratio is exactly equal to the original float.\n",
      " |\n",
      " |      The ratio is in lowest terms and has a positive denominator.  Raise\n",
      " |      OverflowError on infinities and a ValueError on NaNs.\n",
      " |\n",
      " |      >>> (10.0).as_integer_ratio()\n",
      " |      (10, 1)\n",
      " |      >>> (0.0).as_integer_ratio()\n",
      " |      (0, 1)\n",
      " |      >>> (-.25).as_integer_ratio()\n",
      " |      (-1, 4)\n",
      " |\n",
      " |  conjugate(self, /)\n",
      " |      Return self, the complex conjugate of any float.\n",
      " |\n",
      " |  hex(self, /)\n",
      " |      Return a hexadecimal representation of a floating-point number.\n",
      " |\n",
      " |      >>> (-0.1).hex()\n",
      " |      '-0x1.999999999999ap-4'\n",
      " |      >>> 3.14159.hex()\n",
      " |      '0x1.921f9f01b866ep+1'\n",
      " |\n",
      " |  is_integer(self, /)\n",
      " |      Return True if the float is an integer.\n",
      " |\n",
      " |  ----------------------------------------------------------------------\n",
      " |  Class methods defined here:\n",
      " |\n",
      " |  __getformat__(typestr, /)\n",
      " |      You probably don't want to use this function.\n",
      " |\n",
      " |        typestr\n",
      " |          Must be 'double' or 'float'.\n",
      " |\n",
      " |      It exists mainly to be used in Python's test suite.\n",
      " |\n",
      " |      This function returns whichever of 'unknown', 'IEEE, big-endian' or 'IEEE,\n",
      " |      little-endian' best describes the format of floating-point numbers used by the\n",
      " |      C type named by typestr.\n",
      " |\n",
      " |  fromhex(string, /)\n",
      " |      Create a floating-point number from a hexadecimal string.\n",
      " |\n",
      " |      >>> float.fromhex('0x1.ffffp10')\n",
      " |      2047.984375\n",
      " |      >>> float.fromhex('-0x1p-1074')\n",
      " |      -5e-324\n",
      " |\n",
      " |  ----------------------------------------------------------------------\n",
      " |  Static methods defined here:\n",
      " |\n",
      " |  __new__(*args, **kwargs)\n",
      " |      Create and return a new object.  See help(type) for accurate signature.\n",
      " |\n",
      " |  ----------------------------------------------------------------------\n",
      " |  Data descriptors defined here:\n",
      " |\n",
      " |  imag\n",
      " |      the imaginary part of a complex number\n",
      " |\n",
      " |  real\n",
      " |      the real part of a complex number\n",
      "\n"
     ]
    }
   ],
   "source": [
    "help(float)"
   ]
  },
  {
   "cell_type": "code",
   "execution_count": 85,
   "id": "a0e8a8c5-b870-4e3d-8f0f-1cff5ce522ed",
   "metadata": {},
   "outputs": [
    {
     "name": "stdout",
     "output_type": "stream",
     "text": [
      "Help on built-in function sum in module builtins:\n",
      "\n",
      "sum(iterable, /, start=0)\n",
      "    Return the sum of a 'start' value (default: 0) plus an iterable of numbers\n",
      "\n",
      "    When the iterable is empty, return the start value.\n",
      "    This function is intended specifically for use with numeric values and may\n",
      "    reject non-numeric types.\n",
      "\n"
     ]
    }
   ],
   "source": [
    "help(sum)"
   ]
  },
  {
   "cell_type": "code",
   "execution_count": null,
   "id": "8fdc323a-22de-4e46-9849-5919787a4690",
   "metadata": {},
   "outputs": [],
   "source": [
    "sum??"
   ]
  },
  {
   "cell_type": "markdown",
   "id": "2d5396e7-6e92-4ccd-a350-ef2fe309cc33",
   "metadata": {},
   "source": [
    "# input function"
   ]
  },
  {
   "cell_type": "code",
   "execution_count": 93,
   "id": "d2f7ccf4-0c8d-40f4-9aab-996b9aa00158",
   "metadata": {},
   "outputs": [
    {
     "name": "stdin",
     "output_type": "stream",
     "text": [
      "enter your name Tanisha\n"
     ]
    },
    {
     "name": "stdout",
     "output_type": "stream",
     "text": [
      "name entered by user is Tanisha\n",
      "<class 'str'>\n"
     ]
    }
   ],
   "source": [
    "name = input(\"enter your name\")\n",
    "print(\"name entered by user is\", name)\n",
    "print(type(name))"
   ]
  },
  {
   "cell_type": "code",
   "execution_count": 95,
   "id": "2fb292d3-6228-4001-ba0d-81a62004e7f4",
   "metadata": {},
   "outputs": [
    {
     "name": "stdin",
     "output_type": "stream",
     "text": [
      "enter your age please 13\n"
     ]
    },
    {
     "name": "stdout",
     "output_type": "stream",
     "text": [
      "age of user is 13\n",
      "<class 'str'>\n"
     ]
    }
   ],
   "source": [
    "age = input(\"enter your age please\")\n",
    "print(\"age of user is\", age)\n",
    "print(type(age))"
   ]
  },
  {
   "cell_type": "markdown",
   "id": "e17b1103-63e7-4aac-8e96-70d6c3dc758a",
   "metadata": {},
   "source": [
    "# This is my 6th class of Jupyter Notebook "
   ]
  },
  {
   "cell_type": "markdown",
   "id": "6d41ac44-e1ff-40f0-bfd5-b00a78916567",
   "metadata": {},
   "source": [
    "# Lecture 1 to 5 \n",
    "# Special class"
   ]
  },
  {
   "cell_type": "markdown",
   "id": "dba48611-c175-477d-95dd-b560bc6c68dd",
   "metadata": {},
   "source": [
    "# Question 1"
   ]
  },
  {
   "cell_type": "code",
   "execution_count": null,
   "id": "25c2eb59-769f-4e6a-9aa6-3d8c14f69b3b",
   "metadata": {},
   "outputs": [],
   "source": [
    "You are developing a program for a competition where participants\n",
    "need to solve mathematical expressions and provide the result.\n",
    "You want to use python to automate the evaluation process.\n",
    "Here's how you could approach it:\n",
    "\n",
    "1)Take input from the participant to enter a mathematical expression\n",
    "2)evaluate the expression entered by the participant and obtain the result.\n",
    "3)Display the result to the participant."
   ]
  },
  {
   "cell_type": "code",
   "execution_count": 104,
   "id": "73585c21-3e4b-4622-8842-ec0a7e6dd436",
   "metadata": {},
   "outputs": [
    {
     "name": "stdin",
     "output_type": "stream",
     "text": [
      "Enter the mathematical expresson please ==>  25*45+96-52*3/2.4\n"
     ]
    },
    {
     "name": "stdout",
     "output_type": "stream",
     "text": [
      "The result of the expression is 1156.0\n",
      "Thanks for participating in the maths competition\n"
     ]
    }
   ],
   "source": [
    "expression = input(\"Enter the mathematical expresson please ==> \")\n",
    "result = eval(expression)\n",
    "print(\"The result of the expression is\", result)\n",
    "print(\"Thanks for participating in the maths competition\")"
   ]
  },
  {
   "cell_type": "markdown",
   "id": "8eef411c-377f-445f-b0ed-429cd7ec9e20",
   "metadata": {},
   "source": [
    "# Question 2"
   ]
  },
  {
   "cell_type": "code",
   "execution_count": null,
   "id": "ba88e148-5df4-4a1c-8a68-62b76c238a4a",
   "metadata": {},
   "outputs": [],
   "source": [
    "Suppose you'r analyzing a database containing information\n",
    "about house prices in a city. Each record includes details\n",
    "such as the house size (in square feet), number of bedrooms,\n",
    "and price. You want to perform various calculations and\n",
    "multipulations on this dataset using python.\n",
    "Answer the following questions:\n",
    "\n",
    "1) Ask the user 1 & 2 to enter house size,\n",
    "number of rooms they want and .Check the data type user has entered\n",
    "\n",
    "2) Calculate the price of house , if per sq feet is Tk 5000.\n",
    "\n",
    "3) Threshold price is 75 lakh Tk, which user\n",
    "is paying the price above threshold price."
   ]
  },
  {
   "cell_type": "code",
   "execution_count": 111,
   "id": "f5984e52-ec75-4930-8309-236d491877c7",
   "metadata": {},
   "outputs": [
    {
     "name": "stdin",
     "output_type": "stream",
     "text": [
      "User 1 enter the size of the house 1500\n",
      "User 1 enter the number of bedrooms 2\n",
      "User 1 enter the buget 5000000\n",
      "User 2 enter the size of the house 3000\n",
      "User 2 enter the number of bedrooms 3\n",
      "User 2 enter the buget 8000000\n"
     ]
    },
    {
     "name": "stdout",
     "output_type": "stream",
     "text": [
      "The price of type house for user 1 is 7500000.0\n",
      "The price of type house for user 2 is 15000000.0\n",
      "User 1 is paying above threshold True\n",
      "User 2 is paying above threshold True\n"
     ]
    }
   ],
   "source": [
    "house_size_1 = float(input(\"User 1 enter the size of the house\"))\n",
    "bedrooms_1 = int(input(\"User 1 enter the number of bedrooms\"))\n",
    "price_1 = float(input(\"User 1 enter the buget\"))\n",
    "\n",
    "house_size_2 = float(input(\"User 2 enter the size of the house\"))\n",
    "bedrooms_2 = int(input(\"User 2 enter the number of bedrooms\"))\n",
    "price_2 = float(input(\"User 2 enter the buget\"))\n",
    "\n",
    "house_price_1 = house_size_1 * 5000\n",
    "print(\"The price of type house for user 1 is\", house_price_1)\n",
    "\n",
    "house_price_2 = house_size_2 * 5000\n",
    "print(\"The price of type house for user 2 is\", house_price_2)\n",
    "\n",
    "threshold_price = 7500000\n",
    "user1_threshold = house_price_1 >= threshold_price\n",
    "user2_threshold = house_price_2 >= threshold_price\n",
    "\n",
    "print(\"User 1 is paying above threshold\", user1_threshold)\n",
    "print(\"User 2 is paying above threshold\", user2_threshold)"
   ]
  },
  {
   "cell_type": "markdown",
   "id": "3404fa1e-a171-4a5c-a1f3-76e2a7ef5887",
   "metadata": {},
   "source": [
    "# Question 3"
   ]
  },
  {
   "cell_type": "code",
   "execution_count": null,
   "id": "9ccf8447-6da5-44ff-8d9c-cd3ad42ee2c8",
   "metadata": {},
   "outputs": [],
   "source": [
    "You are working on a project to analyze stock market data.\n",
    "Create variables to store the stock symbol, current price,\n",
    "and percentage change in price. Then, calculate the new price \n",
    "after a 10% increase using arithmetic operators. Finally,\n",
    "prompt the user to enter their budget using the input() function,\n",
    "convert it to a float using the float() function, and \n",
    "compare it with the new price"
   ]
  },
  {
   "cell_type": "code",
   "execution_count": 3,
   "id": "2d6c92b3-3fcf-4275-9e79-7ee10c2ffd44",
   "metadata": {},
   "outputs": [
    {
     "name": "stdout",
     "output_type": "stream",
     "text": [
      "the new price of the stock is 110.00000000000001\n"
     ]
    },
    {
     "name": "stdin",
     "output_type": "stream",
     "text": [
      "enter your budget 6000\n"
     ]
    },
    {
     "name": "stdout",
     "output_type": "stream",
     "text": [
      "user budget is greater than new price True\n"
     ]
    }
   ],
   "source": [
    "stock_symbol = \"xyz\"\n",
    "current_price = 100\n",
    "percent_change = 10\n",
    "\n",
    "new_price = current_price*(1+percent_change/100)\n",
    "\n",
    "print(\"the new price of the stock is\", new_price)\n",
    "user_budget = int(input(\"enter your budget\"))\n",
    "\n",
    "a = user_budget >= new_price\n",
    "print(\"user budget is greater than new price\", a)"
   ]
  },
  {
   "cell_type": "markdown",
   "id": "caf02b6b-99ec-4028-a3de-82530166a458",
   "metadata": {},
   "source": [
    "# Question 4"
   ]
  },
  {
   "cell_type": "code",
   "execution_count": null,
   "id": "8eca6aab-80a0-4ba1-93a2-ad5438c907dc",
   "metadata": {},
   "outputs": [],
   "source": [
    "You are working on a project to analyze weather data.\n",
    "Create variable to store the current temperature,\n",
    "the minimum temperature recorded, and the maxi"
   ]
  },
  {
   "cell_type": "code",
   "execution_count": null,
   "id": "44246bfb-692b-4fff-a732-24433fc9ba51",
   "metadata": {},
   "outputs": [],
   "source": []
  },
  {
   "cell_type": "code",
   "execution_count": null,
   "id": "8e59f12b-0531-4ae1-8852-b38a268781dd",
   "metadata": {},
   "outputs": [],
   "source": []
  },
  {
   "cell_type": "code",
   "execution_count": null,
   "id": "0b0ae051-7ca4-448f-9157-04a683ca14a8",
   "metadata": {},
   "outputs": [],
   "source": []
  }
 ],
 "metadata": {
  "kernelspec": {
   "display_name": "Python 3 (ipykernel)",
   "language": "python",
   "name": "python3"
  },
  "language_info": {
   "codemirror_mode": {
    "name": "ipython",
    "version": 3
   },
   "file_extension": ".py",
   "mimetype": "text/x-python",
   "name": "python",
   "nbconvert_exporter": "python",
   "pygments_lexer": "ipython3",
   "version": "3.12.7"
  }
 },
 "nbformat": 4,
 "nbformat_minor": 5
}
